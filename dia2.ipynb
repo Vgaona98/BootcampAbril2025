{
 "cells": [
  {
   "cell_type": "code",
   "execution_count": null,
   "id": "29fa116d",
   "metadata": {},
   "outputs": [],
   "source": [
    "def saludo_bienvenida(nombre):\n",
    "    print(\"Buen dia,{nombre}\")\n",
    "\n",
    "\n",
    "    "
   ]
  },
  {
   "cell_type": "code",
   "execution_count": 5,
   "id": "2119674b",
   "metadata": {},
   "outputs": [],
   "source": [
    "def saludo_bienvenida(nombre):\n",
    "    print(f\"Buen dia {nombre}\")"
   ]
  },
  {
   "cell_type": "code",
   "execution_count": 7,
   "id": "a9dfb15f",
   "metadata": {},
   "outputs": [
    {
     "name": "stdout",
     "output_type": "stream",
     "text": [
      "Es mayor de edad podes ingresar\n"
     ]
    }
   ],
   "source": [
    "edad = 18\n",
    "if edad < 18:\n",
    "    print('es menor, no podes ingresar')\n",
    "else:\n",
    "    print('Es mayor de edad podes ingresar')"
   ]
  },
  {
   "cell_type": "code",
   "execution_count": 8,
   "id": "8d873186",
   "metadata": {},
   "outputs": [
    {
     "name": "stdout",
     "output_type": "stream",
     "text": [
      "Estudante\n"
     ]
    }
   ],
   "source": [
    "edad_individuo = 15\n",
    "\n",
    "if edad_individuo < 18:\n",
    "    print('Estudante')\n",
    "elif edad_individuo > 65:\n",
    "    print('Jubilado')\n",
    "else:\n",
    "    print('Trabajando')"
   ]
  },
  {
   "cell_type": "code",
   "execution_count": null,
   "id": "27a68c0a",
   "metadata": {},
   "outputs": [
    {
     "name": "stdout",
     "output_type": "stream",
     "text": [
      "Podes tomar, pero no comprar\n"
     ]
    }
   ],
   "source": [
    "#Challenge 1\n",
    "\n",
    "\n",
    "usuario_edad = int(input(\"Ingrese su edad\"))\n",
    "\n",
    "if usuario_edad < 18:\n",
    "    print('Juguito nomas')\n",
    "elif usuario_edad < 21:\n",
    "    print('Podes tomar, pero no comprar') \n",
    "else:\n",
    "    print('hace lo que quieras')\n"
   ]
  },
  {
   "cell_type": "code",
   "execution_count": 13,
   "id": "1eaae660",
   "metadata": {},
   "outputs": [
    {
     "name": "stdout",
     "output_type": "stream",
     "text": [
      "Jubilado\n"
     ]
    }
   ],
   "source": [
    "edad_persona = 70\n",
    "trabaja = True\n",
    "\n",
    "if edad_persona < 18:\n",
    "    print('estudiante')\n",
    "elif edad_persona < 65 and trabaja == True:\n",
    "    print('activa laboralmente')\n",
    "elif edad_persona < 65 and trabaja == False:\n",
    "    print('Desempleado')\n",
    "else:\n",
    "    print('Jubilado')"
   ]
  },
  {
   "cell_type": "code",
   "execution_count": 14,
   "id": "cb1bc411",
   "metadata": {},
   "outputs": [],
   "source": [
    "def chequear_edad(edad_laboral, trabaja):\n",
    "    if edad_laboral < 18:\n",
    "        print(\"estudiante\")\n",
    "    elif edad_laboral < 65 and trabaja == True:\n",
    "        print(\"Activo laboralmente\")\n",
    "    elif edad_laboral < 65 and trabaja == False:\n",
    "        print('laboralmente')\n",
    "    else:\n",
    "        print('jubilado')\n"
   ]
  },
  {
   "cell_type": "code",
   "execution_count": 19,
   "id": "bd0af2ef",
   "metadata": {},
   "outputs": [
    {
     "name": "stdout",
     "output_type": "stream",
     "text": [
      "Ñamano mbae!\n"
     ]
    }
   ],
   "source": [
    "#Challenge 2\n",
    "\n",
    "\n",
    "temperatura = int(input(\"Ingrese los grados\"))\n",
    "\n",
    "if temperatura >= -10 and temperatura <= 18:\n",
    "    print('Fresquete')\n",
    "elif temperatura >= 19 and temperatura <= 30:\n",
    "    print('Calor i')\n",
    "elif temperatura >= 31 and temperatura <= 45:\n",
    "    print('Hakuuuuuu')\n",
    "else:\n",
    "    print('Ñamano mbae!')\n",
    "\n"
   ]
  },
  {
   "cell_type": "code",
   "execution_count": 24,
   "id": "33a34741",
   "metadata": {},
   "outputs": [
    {
     "name": "stdout",
     "output_type": "stream",
     "text": [
      "1\n",
      "numero correcto\n",
      "10\n",
      "numero correcto\n"
     ]
    }
   ],
   "source": [
    "numero_a_adivinar = 10\n",
    "numero = 3\n",
    "\n",
    "while numero != numero_a_adivinar:\n",
    "    numero = int(input('introduce un numero'))\n",
    "    print(numero)\n",
    "\n",
    "    print('numero correcto')"
   ]
  },
  {
   "cell_type": "code",
   "execution_count": null,
   "id": "9c37c27c",
   "metadata": {},
   "outputs": [],
   "source": [
    "numero = 10\n",
    "\n",
    "while True:\n",
    "    numero_ingresado = int(input('introduce un numero'))\n",
    "    if numero_ingresado == numero:\n",
    "        print('el numero es correcto')\n",
    "        break\n",
    "    else:\n",
    "        print('numero incorrecto')"
   ]
  },
  {
   "cell_type": "code",
   "execution_count": null,
   "id": "f22c9b6b",
   "metadata": {},
   "outputs": [
    {
     "name": "stdout",
     "output_type": "stream",
     "text": [
      "Contraseña incorrecta\n",
      "Contraseña correcta\n"
     ]
    }
   ],
   "source": [
    "#Challenge 3\n",
    "\n",
    "\n",
    "while True:\n",
    "    contra_correcta = 'gatito'\n",
    "    contra_ingresada = (input('Ingrese la contraseña'))\n",
    "    if contra_correcta == contra_ingresada:\n",
    "        print('Contraseña correcta')\n",
    "        break\n",
    "    else:\n",
    "        print(\"Contraseña incorrecta\")\n",
    "\n",
    " \n",
    "\n"
   ]
  },
  {
   "cell_type": "code",
   "execution_count": null,
   "id": "72b49eb8",
   "metadata": {},
   "outputs": [],
   "source": [
    "lista_frutas = ['pera', 'manzana', 'banana']\n",
    "\n",
    "lista_bool = [True, False, True]\n",
    "lista_numeros = [1, 2, 3, 4]\n",
    "print(lista_frutas)\n",
    "\n",
    "#Agregar al final de la lista\n",
    "lista_frutas.append('kiwi')\n",
    "print(lista_frutas)\n",
    "\n",
    "#modificar\n",
    "lista_frutas[1] = 'durazno'\n",
    "\n",
    "#eliminar un elemento especifico\n",
    "lista_frutas.remove('pera')\n",
    "print(lista_frutas)\n",
    "\n",
    "#eliminar un elemento por posicion\n",
    "\n",
    "lista_frutas.pop(1)\n",
    "print(lista_frutas)\n",
    "\n",
    "#contar elementos de la lista\n",
    "print(len(lista_frutas))\n"
   ]
  },
  {
   "cell_type": "code",
   "execution_count": null,
   "id": "00e94122",
   "metadata": {},
   "outputs": [
    {
     "name": "stdout",
     "output_type": "stream",
     "text": [
      "['azul', 'rojo', 'verde', 'lila', 'amarillo']\n",
      "['azul', 'rojo', 'verde', 'lila', 'amarillo', 'violeta']\n",
      "['azul', 'gris', 'verde', 'lila', 'amarillo', 'violeta']\n",
      "['azul', 'gris', 'lila', 'amarillo', 'violeta']\n"
     ]
    }
   ],
   "source": [
    "lista_colores =['azul', 'rojo','verde','lila','amarillo']\n",
    "\n",
    "print(lista_colores)\n",
    "\n",
    "lista_colores.append('violeta')\n",
    "print(lista_colores)\n",
    "\n",
    "# cambiar el indice, segundo elemento\n",
    "lista_colores[1] = ('gris')\n",
    "print(lista_colores)\n",
    "\n",
    "#elimina un elemento por indice\n",
    "lista_colores.pop(2)\n",
    "print(lista_colores)\n"
   ]
  },
  {
   "cell_type": "code",
   "execution_count": null,
   "id": "f644b6a3",
   "metadata": {},
   "outputs": [
    {
     "name": "stdout",
     "output_type": "stream",
     "text": [
      "1\n",
      "2\n",
      "3\n",
      "4\n",
      "5\n",
      "6\n",
      "7\n"
     ]
    }
   ],
   "source": [
    "dias_de_la_semana = [1, 2, 3, 4, 5, 6, 7]\n",
    "\n",
    "# elemento de la lista\n",
    "\n",
    "for dia in dias_de_la_semana:\n",
    "    print(dia)\n",
    "\n",
    "\n",
    "    \n",
    "\n"
   ]
  },
  {
   "cell_type": "code",
   "execution_count": 52,
   "id": "d8d7cae4",
   "metadata": {},
   "outputs": [
    {
     "name": "stdout",
     "output_type": "stream",
     "text": [
      "dia:1\n",
      "dia:2\n",
      "dia:3\n",
      "dia:4\n",
      "dia:5\n",
      "dia:6\n",
      "dia:7\n"
     ]
    }
   ],
   "source": [
    "dias_de_la_semana = [1, 2, 3, 4, 5, 6, 7]\n",
    "\n",
    "# elemento de la lista\n",
    "\n",
    "for dia in dias_de_la_semana:\n",
    "    print( f'dia:{dia}')"
   ]
  },
  {
   "cell_type": "code",
   "execution_count": 50,
   "id": "f1b4b191",
   "metadata": {},
   "outputs": [
    {
     "name": "stdout",
     "output_type": "stream",
     "text": [
      "hola\n",
      "hola\n",
      "hola\n",
      "hola\n",
      "hola\n"
     ]
    }
   ],
   "source": [
    "#rango de veces\n",
    "\n",
    "for i in range (5):\n",
    "    print('hola')"
   ]
  },
  {
   "cell_type": "code",
   "execution_count": 60,
   "id": "d62da8aa",
   "metadata": {},
   "outputs": [
    {
     "name": "stdout",
     "output_type": "stream",
     "text": [
      "pan\n",
      "queso\n",
      "coca\n",
      "leche\n",
      "ron\n"
     ]
    }
   ],
   "source": [
    "lista_compras = ['pan', 'queso', 'coca', 'leche', 'ron']\n",
    "\n",
    "for articulo in lista_compras:\n",
    "    print(articulo)"
   ]
  },
  {
   "cell_type": "code",
   "execution_count": 68,
   "id": "ff0272a3",
   "metadata": {},
   "outputs": [
    {
     "name": "stdout",
     "output_type": "stream",
     "text": [
      "0\n",
      "2\n",
      "4\n",
      "6\n",
      "8\n",
      "10\n",
      "12\n",
      "14\n",
      "16\n",
      "18\n"
     ]
    }
   ],
   "source": [
    "\n",
    "# cosas_num = [1, 2, 3, 4, 5, 6, 7, 8, 9, 10]\n",
    "\n",
    "for numero in range(10):\n",
    "    print(numero * 2) \n",
    "\n"
   ]
  },
  {
   "cell_type": "code",
   "execution_count": null,
   "id": "f60b6bb7",
   "metadata": {},
   "outputs": [
    {
     "name": "stdout",
     "output_type": "stream",
     "text": [
      "2\n",
      "4\n",
      "6\n",
      "8\n",
      "10\n",
      "12\n",
      "14\n",
      "16\n",
      "18\n",
      "20\n"
     ]
    }
   ],
   "source": [
    "for i in range(1,11): # colocando solamente 10, la multiplicacion inicia en 0.\n",
    "    i_multiplicado = i * 2\n",
    "    print(i_multiplicado)"
   ]
  },
  {
   "cell_type": "code",
   "execution_count": 72,
   "id": "6f2ecfb2",
   "metadata": {},
   "outputs": [],
   "source": [
    "\n",
    "colores = ['rojo', 'indigo', 'azul', 'negro', 'magenta']\n",
    "\n",
    "\n",
    "for color_6 in colores:\n",
    "    if len(colores)>= 6:\n",
    "        print(colores)"
   ]
  },
  {
   "cell_type": "code",
   "execution_count": 73,
   "id": "f800e66c",
   "metadata": {},
   "outputs": [
    {
     "name": "stdout",
     "output_type": "stream",
     "text": [
      "adidas\n",
      "chanel\n",
      "motorola\n"
     ]
    }
   ],
   "source": [
    "lista_marca =['nike', 'adidas', 'chanel', 'motorola']\n",
    "\n",
    "for marca in lista_marca:\n",
    "    if len(marca) >= 6 :\n",
    "        print(marca)"
   ]
  },
  {
   "cell_type": "code",
   "execution_count": 77,
   "id": "4d40053f",
   "metadata": {},
   "outputs": [
    {
     "name": "stdout",
     "output_type": "stream",
     "text": [
      "s\n",
      "a\n",
      "l\n",
      "u\n",
      "d\n",
      "o\n"
     ]
    }
   ],
   "source": [
    "for letra in \"saludo\":\n",
    "    print(letra)"
   ]
  },
  {
   "cell_type": "code",
   "execution_count": 79,
   "id": "ea1cbdf6",
   "metadata": {},
   "outputs": [
    {
     "name": "stdout",
     "output_type": "stream",
     "text": [
      "o\n"
     ]
    }
   ],
   "source": [
    "\n",
    "frase = (input(\"Escribe una frase\"))\n",
    "\n",
    "for letra in frase:\n",
    "    if letra == \"o\":\n",
    "        print(letra)\n",
    "\n",
    " "
   ]
  },
  {
   "cell_type": "code",
   "execution_count": 82,
   "id": "f7416334",
   "metadata": {},
   "outputs": [
    {
     "name": "stdout",
     "output_type": "stream",
     "text": [
      "la letra o aparece 2 veces\n"
     ]
    }
   ],
   "source": [
    "oracion = input(\"escribe una frase:\")\n",
    "contador = 0\n",
    "\n",
    "for letra in oracion:\n",
    "    if letra.lower() == \"o\":\n",
    "        contador += 1\n",
    "\n",
    "print(f\"la letra o aparece {contador} veces\")"
   ]
  },
  {
   "cell_type": "code",
   "execution_count": null,
   "id": "13e888ce",
   "metadata": {},
   "outputs": [],
   "source": [
    "def saludo (persona):\n",
    "    print(f'hola{persona}')\n",
    "    \n",
    "    "
   ]
  },
  {
   "cell_type": "code",
   "execution_count": null,
   "id": "cd07ae5d",
   "metadata": {},
   "outputs": [],
   "source": [
    "saludo('Carlitos')"
   ]
  }
 ],
 "metadata": {
  "kernelspec": {
   "display_name": "Python 3",
   "language": "python",
   "name": "python3"
  },
  "language_info": {
   "codemirror_mode": {
    "name": "ipython",
    "version": 3
   },
   "file_extension": ".py",
   "mimetype": "text/x-python",
   "name": "python",
   "nbconvert_exporter": "python",
   "pygments_lexer": "ipython3",
   "version": "3.13.3"
  }
 },
 "nbformat": 4,
 "nbformat_minor": 5
}
