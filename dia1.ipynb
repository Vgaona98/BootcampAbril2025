{
 "cells": [
  {
   "cell_type": "code",
   "execution_count": 1,
   "id": "d07fa1ed",
   "metadata": {},
   "outputs": [
    {
     "name": "stdout",
     "output_type": "stream",
     "text": [
      "Hola mundo\n"
     ]
    }
   ],
   "source": [
    "print(\"Hola mundo\")"
   ]
  },
  {
   "cell_type": "code",
   "execution_count": 4,
   "id": "1f02965e",
   "metadata": {},
   "outputs": [
    {
     "name": "stdout",
     "output_type": "stream",
     "text": [
      "Eduardo\n",
      "Gonzalez\n"
     ]
    }
   ],
   "source": [
    "nombre =(\"Eduardo\")\n",
    "apellido =(\"Gonzalez\")\n",
    "\n",
    "print(nombre)\n",
    "print(apellido)"
   ]
  },
  {
   "cell_type": "code",
   "execution_count": 5,
   "id": "3f80e2b8",
   "metadata": {},
   "outputs": [
    {
     "name": "stdout",
     "output_type": "stream",
     "text": [
      "manzana\n",
      "5\n",
      "naranja\n"
     ]
    }
   ],
   "source": [
    "frutas =(\"manzana\")\n",
    "print(frutas)\n",
    "cantidad_de_frutas =5\n",
    "print(cantidad_de_frutas)\n",
    "frutas = \"naranja\"\n",
    "print(frutas)"
   ]
  },
  {
   "cell_type": "code",
   "execution_count": 9,
   "id": "2c6197bb",
   "metadata": {},
   "outputs": [
    {
     "name": "stdout",
     "output_type": "stream",
     "text": [
      "naranja, pera\n",
      "naranja, pera\n"
     ]
    }
   ],
   "source": [
    "print(frutas)\n",
    "frutas = \"naranja, pera\"\n",
    "print(frutas)\n"
   ]
  },
  {
   "cell_type": "code",
   "execution_count": null,
   "id": "1189394d",
   "metadata": {},
   "outputs": [
    {
     "name": "stdout",
     "output_type": "stream",
     "text": [
      "\"Eduardo\"\n"
     ]
    }
   ],
   "source": [
    "numero = 12313\n",
    "numero_decimal = 1.2\n",
    "nombre = '\"Eduardo\"'\n",
    "cajon_abierto =False\n",
    "print(nombre)"
   ]
  },
  {
   "cell_type": "code",
   "execution_count": 13,
   "id": "dbcf6a53",
   "metadata": {},
   "outputs": [
    {
     "name": "stdout",
     "output_type": "stream",
     "text": [
      "35000\n",
      "30000\n",
      "50666.666666666664\n"
     ]
    }
   ],
   "source": [
    "# Suma\n",
    "\n",
    "precio_total = 15000 + 20000\n",
    "print(precio_total)\n",
    "\n",
    "precio_descuento = precio_total - 5000\n",
    "\n",
    "print(precio_descuento)\n",
    "\n",
    "precio_gaseosa = 190000\n",
    "cantidad_gaseosa = 4\n",
    "cantidad_personas = 15 \n",
    "precio_final = precio_gaseosa * cantidad_gaseosa\n",
    "promedio_por_persona = precio_final / cantidad_personas\n",
    "print(promedio_por_persona)\n"
   ]
  },
  {
   "cell_type": "code",
   "execution_count": null,
   "id": "4ccf00f1",
   "metadata": {},
   "outputs": [
    {
     "name": "stdout",
     "output_type": "stream",
     "text": [
      "16\n",
      "11\n"
     ]
    }
   ],
   "source": [
    "# Challenge \n",
    "\n",
    "cantidad_de_manzanas = 11@\n",
    "cantidad_de_naranjas = 5\n",
    "cantidad_de_frutas = cantidad_de_manzanas + cantidad_de_naranjas\n",
    "print(cantidad_de_frutas)\n",
    "\n",
    "frutas_vendidas = 5\n",
    "frutas_restantes = cantidad_de_frutas - frutas_vendidas\n",
    "print(frutas_restantes)\n"
   ]
  },
  {
   "cell_type": "code",
   "execution_count": 39,
   "id": "66564412",
   "metadata": {},
   "outputs": [
    {
     "name": "stdout",
     "output_type": "stream",
     "text": [
      "VeroGaona\n",
      "Vero Gaona\n",
      "Hola, mi nombre es Vero Gaona\n",
      "hola, me llamo Vero  Gaona, mucho gusto\n"
     ]
    }
   ],
   "source": [
    "nombre = \"Vero\"\n",
    "apellido = \"Gaona\"\n",
    "\n",
    "nombre_completo = nombre + apellido\n",
    "print(nombre_completo)\n",
    "\n",
    "print(nombre + ' ' + apellido)\n",
    "print('Hola, mi nombre es' + ' ' + nombre + ' ' + apellido)\n",
    "print(f\"hola, me llamo {nombre}  {apellido}, mucho gusto\")\n"
   ]
  },
  {
   "cell_type": "code",
   "execution_count": null,
   "id": "06ce0eee",
   "metadata": {},
   "outputs": [
    {
     "name": "stdout",
     "output_type": "stream",
     "text": [
      "Vero\n"
     ]
    }
   ],
   "source": [
    " nombre = input(\"Cual es tu nombre?\")\n",
    "print(nombre)\n"
   ]
  },
  {
   "cell_type": "code",
   "execution_count": null,
   "id": "b96d5cdc",
   "metadata": {},
   "outputs": [
    {
     "name": "stdout",
     "output_type": "stream",
     "text": [
      "11\n"
     ]
    }
   ],
   "source": [
    "numero1 = input(\"dame un numero\")\n",
    "numero2 = input(\"dame otro numero\")\n",
    "\n",
    "suma = numero1 + numero2\n",
    "print(suma)"
   ]
  },
  {
   "cell_type": "code",
   "execution_count": 45,
   "id": "046bdbf5",
   "metadata": {},
   "outputs": [
    {
     "name": "stdout",
     "output_type": "stream",
     "text": [
      "10\n"
     ]
    }
   ],
   "source": [
    "numero1 = input(\"dame un numero\")\n",
    "numero2 = input(\"dame otro numero\")\n",
    "\n",
    "suma = int(numero1) + int(numero2)\n",
    "print(suma)"
   ]
  },
  {
   "cell_type": "code",
   "execution_count": 48,
   "id": "0412666c",
   "metadata": {},
   "outputs": [
    {
     "name": "stdout",
     "output_type": "stream",
     "text": [
      "20\n"
     ]
    }
   ],
   "source": [
    "#Challenge\n",
    "\n",
    "num1 = int(input(\"Escribre un numero\"))\n",
    "num2 = int(input(\"Escribe otro numero\"))\n",
    "\n",
    "sum = num1 + num2\n",
    "\n",
    "print(sum)"
   ]
  },
  {
   "cell_type": "code",
   "execution_count": 52,
   "id": "9a863079",
   "metadata": {},
   "outputs": [
    {
     "name": "stdout",
     "output_type": "stream",
     "text": [
      "Abrir el pan\n",
      "Agregar jamon\n",
      "Agregar Queso\n",
      "Cerrar el pan\n",
      "Listo!\n"
     ]
    }
   ],
   "source": [
    "def preparar_sandwich():\n",
    "    print(\"Abrir el pan\")\n",
    "    print(\"Agregar jamon\")\n",
    "    print(\"Agregar Queso\")\n",
    "    print(\"Cerrar el pan\")\n",
    "    print(\"Listo!\") \n",
    "\n",
    "preparar_sandwich()"
   ]
  },
  {
   "cell_type": "code",
   "execution_count": 68,
   "id": "1c8c29ae",
   "metadata": {},
   "outputs": [
    {
     "name": "stdout",
     "output_type": "stream",
     "text": [
      "pie izquierdo\n",
      "pie derecho\n",
      "pie izquierdo\n",
      "pie derecho\n",
      "Caminando\n",
      "__________\n",
      "pie izquierdo\n",
      "pie derecho\n",
      "pie izquierdo\n",
      "pie derecho\n",
      "Caminando\n",
      "__________\n",
      "pie izquierdo\n",
      "pie derecho\n",
      "pie izquierdo\n",
      "pie derecho\n",
      "Caminando\n",
      "__________\n"
     ]
    }
   ],
   "source": [
    "#Challenge\n",
    "\n",
    "def caminar_pasos():\n",
    "    print(\"pie izquierdo\")\n",
    "    print(\"pie derecho\")\n",
    "    print(\"pie izquierdo\")\n",
    "    print(\"pie derecho\")\n",
    "    print(\"Caminando\")\n",
    "    \n",
    "\n",
    "caminar_pasos()\n",
    "print(\"__________\")\n",
    "caminar_pasos()\n",
    "print(\"__________\")\n",
    "caminar_pasos()\n",
    "print(\"__________\")"
   ]
  },
  {
   "cell_type": "code",
   "execution_count": 71,
   "id": "093b916e",
   "metadata": {},
   "outputs": [
    {
     "name": "stdout",
     "output_type": "stream",
     "text": [
      "Abrir el pan\n",
      "agregar huevo\n",
      "Cerrar pan\n",
      "Listo!\n",
      "Abrir el pan\n",
      "agregar tomate y lechuga\n",
      "Cerrar pan\n",
      "Listo!\n"
     ]
    }
   ],
   "source": [
    "def preparar_sandwich(ingredientes):\n",
    "    print(\"Abrir el pan\")\n",
    "    print(f'agregar {ingredientes}')\n",
    "    print('Cerrar pan')\n",
    "    print('Listo!')\n",
    "\n",
    "preparar_sandwich('huevo')\n",
    "preparar_sandwich('tomate y lechuga')\n",
    "    \n",
    "\n",
    "    "
   ]
  },
  {
   "cell_type": "code",
   "execution_count": null,
   "id": "4554e48d",
   "metadata": {},
   "outputs": [],
   "source": [
    "def cafe_tipos(agregados):\n",
    "    print('Cafe')\n",
    "    Print(f'agregados')\n",
    "    print('Grande')\n",
    "\n",
    "cafe_tipos('')\n",
    "\n",
    "\n",
    "   "
   ]
  },
  {
   "cell_type": "code",
   "execution_count": null,
   "id": "c7c721a8",
   "metadata": {},
   "outputs": [],
   "source": [
    "def celular(caracteristicas):\n",
    "    print('Quiero un celular')\n",
    "    "
   ]
  },
  {
   "cell_type": "code",
   "execution_count": 76,
   "id": "802952fa",
   "metadata": {},
   "outputs": [
    {
     "name": "stdout",
     "output_type": "stream",
     "text": [
      "Aqui tiene su telefono Xiaomi\n",
      "Su capacidad es de 512 GB\n",
      "Es de color rojo\n"
     ]
    }
   ],
   "source": [
    "#Crear una funcion que pregunte las caracteristicas de un producto para comprar y que imprima el elemento con sus caracteristicas\n",
    "def elegir_marca_telefono(marca):\n",
    "    print(f\"Aqui tiene su telefono {marca}\")\n",
    "    print(\"Su capacidad es de 512 GB\")\n",
    "    print(\"Es de color rojo\")\n",
    "\n",
    "elegir_marca_telefono(\"Xiaomi\")"
   ]
  }
 ],
 "metadata": {
  "kernelspec": {
   "display_name": "Python 3",
   "language": "python",
   "name": "python3"
  },
  "language_info": {
   "codemirror_mode": {
    "name": "ipython",
    "version": 3
   },
   "file_extension": ".py",
   "mimetype": "text/x-python",
   "name": "python",
   "nbconvert_exporter": "python",
   "pygments_lexer": "ipython3",
   "version": "3.13.3"
  }
 },
 "nbformat": 4,
 "nbformat_minor": 5
}
